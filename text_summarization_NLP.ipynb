{
 "cells": [
  {
   "cell_type": "markdown",
   "id": "1ca6b540-faf0-4954-856d-b98b1b4201ec",
   "metadata": {},
   "source": [
    "# Text Summarization\n",
    "\n",
    "### The Goal\n",
    "Text summarization aims to save time by quickly providing the essential information from longer articles, enabling individuals to read multiple texts more efficiently, ultimately leading to time savings in the long run.\n",
    "\n",
    "### Approches\n",
    "1. Extractive\n",
    "   \n",
    "    With this method, we rate each sentence in the document against all others, based on how well each line explains.\n",
    "\n",
    "2. Abstractive\n",
    "\n",
    "    This method constructs a one-of-a-kind summary by learning the most significant points from the original text."
   ]
  },
  {
   "cell_type": "code",
   "execution_count": 12,
   "id": "ef2348d1-9e3f-4770-9f77-71d0233b8a8d",
   "metadata": {},
   "outputs": [],
   "source": [
    "import numpy as np\n",
    "import pandas as pd\n",
    "\n",
    "import matplotlib.pyplot as plt\n",
    "import seaborn as sns\n",
    "\n",
    "import datasets\n",
    "import re\n",
    "import contractions\n",
    "from heapq import nlargest\n",
    "\n",
    "import nltk\n",
    "import spacy\n",
    "from spacy.lang.en.stop_words import STOP_WORDS\n",
    "from string import punctuation\n",
    "\n",
    "import transformers\n",
    "from transformers import BartTokenizer, BartForConditionalGeneration\n",
    "import torch\n",
    "import rouge\n",
    "\n",
    "from pprint import pprint"
   ]
  },
  {
   "cell_type": "code",
   "execution_count": 13,
   "id": "d0eb0955-4c94-4982-ad9c-07f10d42a261",
   "metadata": {},
   "outputs": [],
   "source": [
    "train_data = datasets.load_dataset(\"cnn_dailymail\", \"3.0.0\", split=\"train[0:1%]\")\n",
    "validation_data = datasets.load_dataset(\"cnn_dailymail\", \"3.0.0\", split=\"validation[0:1%]\")\n",
    "test_data = datasets.load_dataset(\"cnn_dailymail\", \"3.0.0\", split=\"test[0:1%]\")"
   ]
  },
  {
   "cell_type": "code",
   "execution_count": 14,
   "id": "27838739-4e2f-4a68-aace-c6609fbc0057",
   "metadata": {},
   "outputs": [
    {
     "data": {
      "text/html": [
       "<div>\n",
       "<style scoped>\n",
       "    .dataframe tbody tr th:only-of-type {\n",
       "        vertical-align: middle;\n",
       "    }\n",
       "\n",
       "    .dataframe tbody tr th {\n",
       "        vertical-align: top;\n",
       "    }\n",
       "\n",
       "    .dataframe thead th {\n",
       "        text-align: right;\n",
       "    }\n",
       "</style>\n",
       "<table border=\"1\" class=\"dataframe\">\n",
       "  <thead>\n",
       "    <tr style=\"text-align: right;\">\n",
       "      <th></th>\n",
       "      <th>article</th>\n",
       "      <th>highlights</th>\n",
       "    </tr>\n",
       "  </thead>\n",
       "  <tbody>\n",
       "    <tr>\n",
       "      <th>0</th>\n",
       "      <td>LONDON, England (Reuters) -- Harry Potter star...</td>\n",
       "      <td>Harry Potter star Daniel Radcliffe gets £20M f...</td>\n",
       "    </tr>\n",
       "    <tr>\n",
       "      <th>1</th>\n",
       "      <td>Editor's note: In our Behind the Scenes series...</td>\n",
       "      <td>Mentally ill inmates in Miami are housed on th...</td>\n",
       "    </tr>\n",
       "    <tr>\n",
       "      <th>2</th>\n",
       "      <td>MINNEAPOLIS, Minnesota (CNN) -- Drivers who we...</td>\n",
       "      <td>NEW: \"I thought I was going to die,\" driver sa...</td>\n",
       "    </tr>\n",
       "    <tr>\n",
       "      <th>3</th>\n",
       "      <td>WASHINGTON (CNN) -- Doctors removed five small...</td>\n",
       "      <td>Five small polyps found during procedure; \"non...</td>\n",
       "    </tr>\n",
       "    <tr>\n",
       "      <th>4</th>\n",
       "      <td>(CNN)  -- The National Football League has ind...</td>\n",
       "      <td>NEW: NFL chief, Atlanta Falcons owner critical...</td>\n",
       "    </tr>\n",
       "  </tbody>\n",
       "</table>\n",
       "</div>"
      ],
      "text/plain": [
       "                                             article  \\\n",
       "0  LONDON, England (Reuters) -- Harry Potter star...   \n",
       "1  Editor's note: In our Behind the Scenes series...   \n",
       "2  MINNEAPOLIS, Minnesota (CNN) -- Drivers who we...   \n",
       "3  WASHINGTON (CNN) -- Doctors removed five small...   \n",
       "4  (CNN)  -- The National Football League has ind...   \n",
       "\n",
       "                                          highlights  \n",
       "0  Harry Potter star Daniel Radcliffe gets £20M f...  \n",
       "1  Mentally ill inmates in Miami are housed on th...  \n",
       "2  NEW: \"I thought I was going to die,\" driver sa...  \n",
       "3  Five small polyps found during procedure; \"non...  \n",
       "4  NEW: NFL chief, Atlanta Falcons owner critical...  "
      ]
     },
     "execution_count": 14,
     "metadata": {},
     "output_type": "execute_result"
    }
   ],
   "source": [
    "train_df = pd.DataFrame(train_data).drop(['id'], axis=1)\n",
    "train_df.head()"
   ]
  },
  {
   "cell_type": "code",
   "execution_count": 17,
   "id": "20233a0e-9cdb-4549-948d-727f26a80073",
   "metadata": {},
   "outputs": [],
   "source": [
    "train_df['article_len'] = train_df['article'].map(len)\n",
    "train_df['highlights_len'] = train_df['highlights'].map(len)"
   ]
  },
  {
   "cell_type": "code",
   "execution_count": 18,
   "id": "7f87dd55-dca9-4c82-874d-c203f306cf51",
   "metadata": {},
   "outputs": [
    {
     "data": {
      "text/html": [
       "<div>\n",
       "<style scoped>\n",
       "    .dataframe tbody tr th:only-of-type {\n",
       "        vertical-align: middle;\n",
       "    }\n",
       "\n",
       "    .dataframe tbody tr th {\n",
       "        vertical-align: top;\n",
       "    }\n",
       "\n",
       "    .dataframe thead th {\n",
       "        text-align: right;\n",
       "    }\n",
       "</style>\n",
       "<table border=\"1\" class=\"dataframe\">\n",
       "  <thead>\n",
       "    <tr style=\"text-align: right;\">\n",
       "      <th></th>\n",
       "      <th>article</th>\n",
       "      <th>highlights</th>\n",
       "      <th>article_len</th>\n",
       "      <th>highlights_len</th>\n",
       "    </tr>\n",
       "  </thead>\n",
       "  <tbody>\n",
       "    <tr>\n",
       "      <th>0</th>\n",
       "      <td>LONDON, England (Reuters) -- Harry Potter star...</td>\n",
       "      <td>Harry Potter star Daniel Radcliffe gets £20M f...</td>\n",
       "      <td>2527</td>\n",
       "      <td>217</td>\n",
       "    </tr>\n",
       "    <tr>\n",
       "      <th>1</th>\n",
       "      <td>Editor's note: In our Behind the Scenes series...</td>\n",
       "      <td>Mentally ill inmates in Miami are housed on th...</td>\n",
       "      <td>4051</td>\n",
       "      <td>281</td>\n",
       "    </tr>\n",
       "    <tr>\n",
       "      <th>2</th>\n",
       "      <td>MINNEAPOLIS, Minnesota (CNN) -- Drivers who we...</td>\n",
       "      <td>NEW: \"I thought I was going to die,\" driver sa...</td>\n",
       "      <td>3940</td>\n",
       "      <td>224</td>\n",
       "    </tr>\n",
       "    <tr>\n",
       "      <th>3</th>\n",
       "      <td>WASHINGTON (CNN) -- Doctors removed five small...</td>\n",
       "      <td>Five small polyps found during procedure; \"non...</td>\n",
       "      <td>2620</td>\n",
       "      <td>185</td>\n",
       "    </tr>\n",
       "    <tr>\n",
       "      <th>4</th>\n",
       "      <td>(CNN)  -- The National Football League has ind...</td>\n",
       "      <td>NEW: NFL chief, Atlanta Falcons owner critical...</td>\n",
       "      <td>5764</td>\n",
       "      <td>273</td>\n",
       "    </tr>\n",
       "  </tbody>\n",
       "</table>\n",
       "</div>"
      ],
      "text/plain": [
       "                                             article  \\\n",
       "0  LONDON, England (Reuters) -- Harry Potter star...   \n",
       "1  Editor's note: In our Behind the Scenes series...   \n",
       "2  MINNEAPOLIS, Minnesota (CNN) -- Drivers who we...   \n",
       "3  WASHINGTON (CNN) -- Doctors removed five small...   \n",
       "4  (CNN)  -- The National Football League has ind...   \n",
       "\n",
       "                                          highlights  article_len  \\\n",
       "0  Harry Potter star Daniel Radcliffe gets £20M f...         2527   \n",
       "1  Mentally ill inmates in Miami are housed on th...         4051   \n",
       "2  NEW: \"I thought I was going to die,\" driver sa...         3940   \n",
       "3  Five small polyps found during procedure; \"non...         2620   \n",
       "4  NEW: NFL chief, Atlanta Falcons owner critical...         5764   \n",
       "\n",
       "   highlights_len  \n",
       "0             217  \n",
       "1             281  \n",
       "2             224  \n",
       "3             185  \n",
       "4             273  "
      ]
     },
     "execution_count": 18,
     "metadata": {},
     "output_type": "execute_result"
    }
   ],
   "source": [
    "train_df.head()"
   ]
  },
  {
   "cell_type": "code",
   "execution_count": 19,
   "id": "e1a73263-c4ed-474c-8734-4f66c06ca271",
   "metadata": {},
   "outputs": [],
   "source": [
    "mean_article_len = train_df['article_len'].mean()\n",
    "mean_highlights_len = train_df['highlights_len'].mean()"
   ]
  },
  {
   "cell_type": "code",
   "execution_count": 20,
   "id": "c44de6d5-7c2b-43c8-b56c-cae0ed84918b",
   "metadata": {},
   "outputs": [
    {
     "name": "stdout",
     "output_type": "stream",
     "text": [
      "mean_article_len = 3614.7586206896553\n",
      "mean_highlights_len = 257.5071403692093\n"
     ]
    }
   ],
   "source": [
    "print(f'mean_article_len = {mean_article_len}')\n",
    "print(f'mean_highlights_len = {mean_highlights_len}')"
   ]
  },
  {
   "cell_type": "code",
   "execution_count": 21,
   "id": "40ec51f3-629a-45e4-adf9-df7cccd1c3cf",
   "metadata": {
    "scrolled": true
   },
   "outputs": [
    {
     "name": "stdout",
     "output_type": "stream",
     "text": [
      "----------\n",
      "ARTICLE_TO_SUMMARIZE\n",
      "----------\n",
      "London (CNN)A 19-year-old man was charged Wednesday with terror offenses after he was arrested as he returned to Britain from Turkey, London's Metropolitan Police said. Yahya Rashid, a UK national from northwest London, was detained at Luton airport on Tuesday after he arrived on a flight from Istanbul, police said. He's been charged with engaging in conduct in preparation of acts of terrorism, and with engaging in conduct with the intention of assisting others to commit acts of terrorism. Both charges relate to the period between November 1 and March 31. Rashid is due to appear in Westminster Magistrates' Court on Wednesday, police said. CNN's Lindsay Isaac contributed to this report.\n",
      "----------\n",
      "EXPECTED_SUMMARY\n",
      "----------\n",
      "London's Metropolitan Police say the man was arrested at Luton airport after landing on a flight from Istanbul .\n",
      "He's been charged with terror offenses allegedly committed since the start of November .\n"
     ]
    }
   ],
   "source": [
    "cnn_sample_id = 10\n",
    "cnn_sample = test_data[cnn_sample_id]\n",
    "ARTICLE_TO_SUMMARIZE = cnn_sample['article']\n",
    "EXPECTED_SUMMARY = cnn_sample['highlights']\n",
    "print(\"-\" * 10)\n",
    "print(\"ARTICLE_TO_SUMMARIZE\")\n",
    "print(\"-\" * 10)\n",
    "print(ARTICLE_TO_SUMMARIZE)\n",
    "print(\"-\" * 10)\n",
    "print(\"EXPECTED_SUMMARY\")\n",
    "print(\"-\" * 10)\n",
    "print(EXPECTED_SUMMARY)"
   ]
  },
  {
   "cell_type": "code",
   "execution_count": 22,
   "id": "9f1e6f30-f92e-4f4b-9afb-83734f2e1740",
   "metadata": {},
   "outputs": [],
   "source": [
    "text = cnn_sample['article']\n",
    "expected_summary = cnn_sample['highlights']"
   ]
  },
  {
   "cell_type": "markdown",
   "id": "ff780ff5-02ed-47b2-83e9-2153f5d411f6",
   "metadata": {},
   "source": [
    "## Approch# 1. Extractive"
   ]
  },
  {
   "cell_type": "code",
   "execution_count": 23,
   "id": "1992922e-76e3-4fcf-a5ba-6a16a57e6862",
   "metadata": {},
   "outputs": [],
   "source": [
    "nlp = spacy.load(\"en_core_web_sm\")"
   ]
  },
  {
   "cell_type": "code",
   "execution_count": 24,
   "id": "0c0be31f-a6c5-41bb-84bf-d5c1ecc40a89",
   "metadata": {},
   "outputs": [],
   "source": [
    "doc=nlp(text)\n",
    "tokens=[token.text for token in doc]"
   ]
  },
  {
   "cell_type": "code",
   "execution_count": 25,
   "id": "9f6dd8e8-2fa1-4b06-b47a-257544e5caad",
   "metadata": {},
   "outputs": [],
   "source": [
    "word_freq={}\n",
    "stop_words= list(STOP_WORDS)\n",
    "punctuation =  punctuation + '\\n'"
   ]
  },
  {
   "cell_type": "markdown",
   "id": "3f832cf2-131a-407f-b0a4-145ad3e2a8b9",
   "metadata": {},
   "source": [
    "Count the frequency of the words not present ing stop_words and punctuation"
   ]
  },
  {
   "cell_type": "code",
   "execution_count": 26,
   "id": "4b75d573-de39-4b52-bccd-8f07aaf9fd7b",
   "metadata": {},
   "outputs": [
    {
     "name": "stdout",
     "output_type": "stream",
     "text": [
      "{'1': 1,\n",
      " '19': 1,\n",
      " '31': 1,\n",
      " 'Britain': 1,\n",
      " 'CNN': 1,\n",
      " 'CNN)A': 1,\n",
      " 'Court': 1,\n",
      " 'Isaac': 1,\n",
      " 'Istanbul': 1,\n",
      " 'Lindsay': 1,\n",
      " 'London': 3,\n",
      " 'Luton': 1,\n",
      " 'Magistrates': 1,\n",
      " 'March': 1,\n",
      " 'Metropolitan': 1,\n",
      " 'November': 1,\n",
      " 'Police': 1,\n",
      " 'Rashid': 2,\n",
      " 'Tuesday': 1,\n",
      " 'Turkey': 1,\n",
      " 'UK': 1,\n",
      " 'Wednesday': 2,\n",
      " 'Westminster': 1,\n",
      " 'Yahya': 1,\n",
      " 'acts': 2,\n",
      " 'airport': 1,\n",
      " 'appear': 1,\n",
      " 'arrested': 1,\n",
      " 'arrived': 1,\n",
      " 'assisting': 1,\n",
      " 'charged': 2,\n",
      " 'charges': 1,\n",
      " 'commit': 1,\n",
      " 'conduct': 2,\n",
      " 'contributed': 1,\n",
      " 'detained': 1,\n",
      " 'engaging': 2,\n",
      " 'flight': 1,\n",
      " 'intention': 1,\n",
      " 'man': 1,\n",
      " 'national': 1,\n",
      " 'northwest': 1,\n",
      " 'offenses': 1,\n",
      " 'old': 1,\n",
      " 'period': 1,\n",
      " 'police': 2,\n",
      " 'preparation': 1,\n",
      " 'relate': 1,\n",
      " 'report': 1,\n",
      " 'returned': 1,\n",
      " 'said': 3,\n",
      " 'terror': 1,\n",
      " 'terrorism': 2,\n",
      " 'year': 1}\n"
     ]
    }
   ],
   "source": [
    "for word in doc:\n",
    "   if word.text.lower() not in stop_words:\n",
    "     if word.text.lower() not in punctuation:\n",
    "       if word.text not in word_freq.keys():\n",
    "         word_freq[word.text]= 1\n",
    "       else:\n",
    "         word_freq[word.text]+= 1 \n",
    "pprint(word_freq)"
   ]
  },
  {
   "cell_type": "code",
   "execution_count": 27,
   "id": "a9664d9b-63c3-4cfc-aef8-d4f692a56365",
   "metadata": {
    "scrolled": true
   },
   "outputs": [
    {
     "name": "stdout",
     "output_type": "stream",
     "text": [
      "3\n"
     ]
    }
   ],
   "source": [
    "max_freq = max(word_freq.values())\n",
    "print(max_freq)"
   ]
  },
  {
   "cell_type": "markdown",
   "id": "652f74b4-cbad-4b33-8a1c-9da02dc05b5f",
   "metadata": {},
   "source": [
    "Normalize the word_req dict"
   ]
  },
  {
   "cell_type": "code",
   "execution_count": 28,
   "id": "34d0bdb1-c2ef-4d6a-918b-4c69eb7840e0",
   "metadata": {},
   "outputs": [
    {
     "name": "stdout",
     "output_type": "stream",
     "text": [
      "{'1': 0.3333333333333333,\n",
      " '19': 0.3333333333333333,\n",
      " '31': 0.3333333333333333,\n",
      " 'Britain': 0.3333333333333333,\n",
      " 'CNN': 0.3333333333333333,\n",
      " 'CNN)A': 0.3333333333333333,\n",
      " 'Court': 0.3333333333333333,\n",
      " 'Isaac': 0.3333333333333333,\n",
      " 'Istanbul': 0.3333333333333333,\n",
      " 'Lindsay': 0.3333333333333333,\n",
      " 'London': 1.0,\n",
      " 'Luton': 0.3333333333333333,\n",
      " 'Magistrates': 0.3333333333333333,\n",
      " 'March': 0.3333333333333333,\n",
      " 'Metropolitan': 0.3333333333333333,\n",
      " 'November': 0.3333333333333333,\n",
      " 'Police': 0.3333333333333333,\n",
      " 'Rashid': 0.6666666666666666,\n",
      " 'Tuesday': 0.3333333333333333,\n",
      " 'Turkey': 0.3333333333333333,\n",
      " 'UK': 0.3333333333333333,\n",
      " 'Wednesday': 0.6666666666666666,\n",
      " 'Westminster': 0.3333333333333333,\n",
      " 'Yahya': 0.3333333333333333,\n",
      " 'acts': 0.6666666666666666,\n",
      " 'airport': 0.3333333333333333,\n",
      " 'appear': 0.3333333333333333,\n",
      " 'arrested': 0.3333333333333333,\n",
      " 'arrived': 0.3333333333333333,\n",
      " 'assisting': 0.3333333333333333,\n",
      " 'charged': 0.6666666666666666,\n",
      " 'charges': 0.3333333333333333,\n",
      " 'commit': 0.3333333333333333,\n",
      " 'conduct': 0.6666666666666666,\n",
      " 'contributed': 0.3333333333333333,\n",
      " 'detained': 0.3333333333333333,\n",
      " 'engaging': 0.6666666666666666,\n",
      " 'flight': 0.3333333333333333,\n",
      " 'intention': 0.3333333333333333,\n",
      " 'man': 0.3333333333333333,\n",
      " 'national': 0.3333333333333333,\n",
      " 'northwest': 0.3333333333333333,\n",
      " 'offenses': 0.3333333333333333,\n",
      " 'old': 0.3333333333333333,\n",
      " 'period': 0.3333333333333333,\n",
      " 'police': 0.6666666666666666,\n",
      " 'preparation': 0.3333333333333333,\n",
      " 'relate': 0.3333333333333333,\n",
      " 'report': 0.3333333333333333,\n",
      " 'returned': 0.3333333333333333,\n",
      " 'said': 1.0,\n",
      " 'terror': 0.3333333333333333,\n",
      " 'terrorism': 0.6666666666666666,\n",
      " 'year': 0.3333333333333333}\n"
     ]
    }
   ],
   "source": [
    "for word in word_freq.keys():\n",
    "  word_freq[word] = word_freq[word] / max_freq\n",
    "pprint(word_freq)"
   ]
  },
  {
   "cell_type": "code",
   "execution_count": 29,
   "id": "e040abf8-cef7-496a-82dc-effff138464c",
   "metadata": {
    "scrolled": true
   },
   "outputs": [
    {
     "name": "stdout",
     "output_type": "stream",
     "text": [
      "[London (CNN)A 19-year-old man was charged Wednesday with terror offenses after he was arrested as he returned to Britain from Turkey, London's Metropolitan Police said.,\n",
      " Yahya Rashid, a UK national from northwest London, was detained at Luton airport on Tuesday after he arrived on a flight from Istanbul, police said.,\n",
      " He's been charged with engaging in conduct in preparation of acts of terrorism, and with engaging in conduct with the intention of assisting others to commit acts of terrorism.,\n",
      " Both charges relate to the period between November 1 and March 31.,\n",
      " Rashid is due to appear in Westminster Magistrates' Court on Wednesday, police said.,\n",
      " CNN's Lindsay Isaac contributed to this report.]\n"
     ]
    }
   ],
   "source": [
    "sent_tokens = [sent for sent in doc.sents]\n",
    "pprint(sent_tokens)"
   ]
  },
  {
   "cell_type": "markdown",
   "id": "cfacb38e-d699-49d2-b2b0-d7cd37bcd2f5",
   "metadata": {},
   "source": [
    "Score each sentence based on the score of each word appearing in the sentence"
   ]
  },
  {
   "cell_type": "code",
   "execution_count": 30,
   "id": "848bff23-2f4d-4da2-8366-e5785148940a",
   "metadata": {},
   "outputs": [
    {
     "name": "stdout",
     "output_type": "stream",
     "text": [
      "{London (CNN)A 19-year-old man was charged Wednesday with terror offenses after he was arrested as he returned to Britain from Turkey, London's Metropolitan Police said.: 5.000000000000001,\n",
      " Yahya Rashid, a UK national from northwest London, was detained at Luton airport on Tuesday after he arrived on a flight from Istanbul, police said.: 3.6666666666666665,\n",
      " He's been charged with engaging in conduct in preparation of acts of terrorism, and with engaging in conduct with the intention of assisting others to commit acts of terrorism.: 7.333333333333333,\n",
      " Both charges relate to the period between November 1 and March 31.: 1.6666666666666665,\n",
      " Rashid is due to appear in Westminster Magistrates' Court on Wednesday, police said.: 2.0,\n",
      " CNN's Lindsay Isaac contributed to this report.: 0.6666666666666666}\n"
     ]
    }
   ],
   "source": [
    "sent_score = {}\n",
    "for sent in sent_tokens:\n",
    "  for word in sent:\n",
    "    if word.text.lower() in word_freq.keys():\n",
    "      if sent not in sent_score.keys():\n",
    "        sent_score[sent] = word_freq[word.text.lower()]\n",
    "      else:\n",
    "        sent_score[sent] += word_freq[word.text.lower()]  \n",
    "pprint(sent_score)"
   ]
  },
  {
   "cell_type": "markdown",
   "id": "d941beb9-3476-4620-b370-da5eab1b9ff2",
   "metadata": {},
   "source": [
    "Set the expected summary length from minimum of \n",
    "1. 30% of the length of the article\n",
    "1. mean lenght of the summarized text from the dataset"
   ]
  },
  {
   "cell_type": "code",
   "execution_count": 34,
   "id": "fc0d583e-65d9-4aec-a80d-a71b3601bcc9",
   "metadata": {},
   "outputs": [
    {
     "name": "stdout",
     "output_type": "stream",
     "text": [
      "1\n",
      "He's been charged with engaging in conduct in preparation of acts of terrorism, and with engaging in conduct with the intention of assisting others to commit acts of terrorism.\n"
     ]
    }
   ],
   "source": [
    "summary_factor = 0.3\n",
    "max_len = int(min(len(sent_score) * summary_factor, mean_highlights_len))\n",
    "\n",
    "print(max_len)\n",
    "summary = nlargest(n = max_len, iterable= sent_score, key = sent_score.get)\n",
    "summary = [word.text for word in summary]\n",
    "summary = \" \".join(summary)\n",
    "print(summary)"
   ]
  },
  {
   "cell_type": "code",
   "execution_count": 32,
   "id": "c830a78b-e246-410e-bfdd-b61b706a6376",
   "metadata": {},
   "outputs": [],
   "source": [
    "def evaluate_summary(expected_summary, generated_summary):\n",
    "    rouge_score = rouge.Rouge()\n",
    "    scores = rouge_score.get_scores(expected_summary, generated_summary, avg=True)\n",
    "    #pprint(scores)\n",
    "    score_1 = round(scores['rouge-1']['f'], 2)\n",
    "    score_2 = round(scores['rouge-2']['f'], 2)\n",
    "    score_L = round(scores['rouge-l']['f'], 2)\n",
    "    print(\"rouge1:\", score_1, \"| rouge2:\", score_2, \"| rougeL:\", score_2, \n",
    "          \"--> avg rouge:\", round(np.mean([score_1,score_2,score_L]), 2))"
   ]
  },
  {
   "cell_type": "code",
   "execution_count": 33,
   "id": "4393891f-6a86-4b86-9b56-8ebc7f12963a",
   "metadata": {},
   "outputs": [
    {
     "name": "stdout",
     "output_type": "stream",
     "text": [
      "rouge1: 0.24 | rouge2: 0.11 | rougeL: 0.11 --> avg rouge: 0.2\n"
     ]
    }
   ],
   "source": [
    "evaluate_summary(expected_summary, summary)"
   ]
  },
  {
   "cell_type": "markdown",
   "id": "da17f01a-9712-42b5-a76b-1c4d1045d37b",
   "metadata": {},
   "source": [
    "## Approch# 2. Abstractive (Language model)\n",
    "\n",
    "In this method we use a pre-trained Transformer model `facebook/bart-large-cnn` which is fine-tuned on the same dataset."
   ]
  },
  {
   "cell_type": "code",
   "execution_count": 36,
   "id": "462bbaf0-683b-4740-aa2c-0caafafc9e2b",
   "metadata": {},
   "outputs": [],
   "source": [
    "tokenizer = BartTokenizer.from_pretrained('facebook/bart-large-cnn')\n",
    "model = BartForConditionalGeneration.from_pretrained('facebook/bart-large-cnn')"
   ]
  },
  {
   "cell_type": "code",
   "execution_count": 39,
   "id": "961b0bd8-6e0d-43ec-8bc6-be88994fc195",
   "metadata": {
    "scrolled": true
   },
   "outputs": [
    {
     "name": "stdout",
     "output_type": "stream",
     "text": [
      "Yahya Rashid, a UK national from northwest London, was detained at Luton airport on Tuesday. He's been charged with engaging in conduct in preparation of acts of terrorism, police say. Rashid is due to appear in Westminster Magistrates' Court on Wednesday.\n"
     ]
    }
   ],
   "source": [
    "tokenized_input = tokenizer([ARTICLE_TO_SUMMARIZE], max_length=mean_article_len, truncation=True, return_tensors='pt')\n",
    "summary_ids = model.generate(tokenized_input['input_ids'], max_length=mean_highlights_len, early_stopping=True)\n",
    "summary = \"\".join([tokenizer.decode(g, skip_special_tokens=True, clean_up_tokenization_spaces=False) for g in summary_ids])\n",
    "print(summary)"
   ]
  },
  {
   "cell_type": "code",
   "execution_count": 40,
   "id": "a6f8ca03-3204-41d5-977b-fb26663e97e6",
   "metadata": {
    "scrolled": true
   },
   "outputs": [
    {
     "name": "stdout",
     "output_type": "stream",
     "text": [
      "rouge1: 0.39 | rouge2: 0.14 | rougeL: 0.14 --> avg rouge: 0.29\n"
     ]
    }
   ],
   "source": [
    "evaluate_summary(expected_summary, summary)"
   ]
  },
  {
   "cell_type": "code",
   "execution_count": null,
   "id": "c9da43d2-e88c-4d1b-a506-7eecab6091cc",
   "metadata": {},
   "outputs": [],
   "source": []
  },
  {
   "cell_type": "code",
   "execution_count": null,
   "id": "f005d7c6-8699-4fc4-8499-ba7900c066c9",
   "metadata": {},
   "outputs": [],
   "source": []
  },
  {
   "cell_type": "markdown",
   "id": "24f0e2e9-41fe-4cc6-b3f3-be5f24493631",
   "metadata": {},
   "source": [
    "# References\n",
    "1. https://www.analyticsvidhya.com/blog/2021/10/text-summarization-using-the-conventional-hugging-face-transformer-and-cosine-similarity/\n",
    "1. https://pub.towardsai.net/a-full-introduction-on-text-summarization-using-deep-learning-with-sample-code-ft-huggingface-d21e0336f50c\n",
    "1. https://pub.towardsai.net/how-to-train-a-seq2seq-text-summarization-model-with-sample-code-ft-huggingface-pytorch-8ba97492f885"
   ]
  },
  {
   "cell_type": "code",
   "execution_count": null,
   "id": "d73a8a21-3863-4c2b-91e8-8632b6c0dfcd",
   "metadata": {},
   "outputs": [],
   "source": []
  },
  {
   "cell_type": "code",
   "execution_count": null,
   "id": "ac3c8311-e34f-4e01-bfc5-99d513474d1c",
   "metadata": {},
   "outputs": [],
   "source": []
  }
 ],
 "metadata": {
  "kernelspec": {
   "display_name": "Python 3 (ipykernel)",
   "language": "python",
   "name": "python3"
  },
  "language_info": {
   "codemirror_mode": {
    "name": "ipython",
    "version": 3
   },
   "file_extension": ".py",
   "mimetype": "text/x-python",
   "name": "python",
   "nbconvert_exporter": "python",
   "pygments_lexer": "ipython3",
   "version": "3.11.5"
  }
 },
 "nbformat": 4,
 "nbformat_minor": 5
}
